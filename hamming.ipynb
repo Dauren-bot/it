{
 "cells": [
  {
   "cell_type": "code",
   "execution_count": 55,
   "metadata": {},
   "outputs": [
    {
     "name": "stdout",
     "output_type": "stream",
     "text": [
      "L Huffman code : 111 probability: 0.18181818181818182\n",
      "D Huffman code : 110 probability: 0.18181818181818182\n",
      "S Huffman code : 01 probability: 0.18181818181818182\n",
      "H Huffman code : 100 probability: 0.09090909090909091\n",
      "E Huffman code : 1011 probability: 0.09090909090909091\n",
      "O Huffman code : 1010 probability: 0.09090909090909091\n",
      "G Huffman code : 001 probability: 0.09090909090909091\n",
      "R Huffman code : 000 probability: 0.09090909090909091\n",
      "100101111111110101100100100001110\n"
     ]
    }
   ],
   "source": [
    "with open('q1.txt') as f:\n",
    "    contents = f.read()\n",
    "string = contents\n",
    "with open('q1.txt') as f:\n",
    "    contents = f.read()\n",
    "text = contents\n",
    "arr = {}\n",
    "for s in text:\n",
    "  if s in arr:\n",
    "    arr[s] += 1\n",
    "  else:\n",
    "    arr[s] = 1\n",
    "\n",
    "\n",
    "\n",
    "class NodeTree(object):\n",
    "\n",
    "    def __init__(self, left=None, right=None):\n",
    "        self.left = left\n",
    "        self.right = right\n",
    "\n",
    "    def children(self):\n",
    "        return (self.left, self.right)\n",
    "\n",
    "    def nodes(self):\n",
    "        return (self.left, self.right)\n",
    "\n",
    "    def __str__(self):\n",
    "        return '%s_%s' % (self.left, self.right)\n",
    "\n",
    "\n",
    "# Main function implementing huffman coding\n",
    "def huffman_code_tree(node, left=True, binString=''):\n",
    "    if type(node) is str:\n",
    "        return {node: binString}\n",
    "    (l, r) = node.children()\n",
    "    d = dict()\n",
    "    d.update(huffman_code_tree(l, True, binString + '0'))\n",
    "    d.update(huffman_code_tree(r, False, binString + '1'))\n",
    "    return d\n",
    "\n",
    "\n",
    "# Calculating frequency\n",
    "freq = {}\n",
    "for c in string:\n",
    "    if c in freq:\n",
    "        freq[c] += 1\n",
    "    else:\n",
    "        freq[c] = 1\n",
    "\n",
    "freq = sorted(freq.items(), key=lambda x: x[1], reverse=True)\n",
    "\n",
    "nodes = freq\n",
    "\n",
    "while len(nodes) > 1:\n",
    "    (key1, c1) = nodes[-1]\n",
    "    (key2, c2) = nodes[-2]\n",
    "    nodes = nodes[:-2]\n",
    "    node = NodeTree(key1, key2)\n",
    "    nodes.append((node, c1 + c2))\n",
    "\n",
    "    nodes = sorted(nodes, key=lambda x: x[1], reverse=True)\n",
    "\n",
    "huffmanCode = huffman_code_tree(nodes[0][0])\n",
    "\n",
    "\n",
    "for (char, frequency) in freq:\n",
    "    print( char,'Huffman code :', huffmanCode[char],'probability:',arr[char]/len(text))\n",
    "code=''\n",
    "for s in text:\n",
    "    s=huffmanCode[s]\n",
    "    code=code+s\n",
    "print(code)\n"
   ]
  },
  {
   "cell_type": "code",
   "execution_count": 56,
   "metadata": {},
   "outputs": [],
   "source": [
    "def Hamming7_4(x2):\n",
    "    d3=int(x2[0])\n",
    "    d5=int(x2[1])\n",
    "    d6=int(x2[2])\n",
    "    d7=int(x2[3])\n",
    "    p1 =(d3+d5+d7)%2\n",
    "    p2 = (d3+d6+d7)%2\n",
    "    p4 = (d5+d6+d7)%2\n",
    "    p0 = (p1+p2+p4+d3+d5+d6+d7)%2\n",
    "    return str(p0)+str(p1)+str(p2)+x2[0]+str(p4)+x2[1]+x2[2]+x2[3]"
   ]
  },
  {
   "cell_type": "code",
   "execution_count": 57,
   "metadata": {},
   "outputs": [
    {
     "name": "stdout",
     "output_type": "stream",
     "text": [
      "01010101\n"
     ]
    }
   ],
   "source": [
    "print(Hamming7_4('1101'))"
   ]
  },
  {
   "cell_type": "code",
   "execution_count": 58,
   "metadata": {},
   "outputs": [],
   "source": [
    "def Hamming15_11(x):\n",
    "    d3=int(x[0])\n",
    "    d5=int(x[1])\n",
    "    d6=int(x[2])\n",
    "    d7=int(x[3])\n",
    "    d9=int(x[4])\n",
    "    d10=int(x[5])\n",
    "    d11=int(x[6])\n",
    "    d12=int(x[7])\n",
    "    d13=int(x[8])\n",
    "    d14=int(x[9])\n",
    "    d15=int(x[10])\n",
    "    p1 = (d3 + d5 + d7 + d9 + d11+ d13 + d15) % 2\n",
    "    p2 = (d3 + d6 + d7 + d10 + d11 + d14 + d15) % 2\n",
    "    p4 = (d5 + d6 + d7 + d12 +d13+ d14 + d15) % 2\n",
    "    p8 = (d9 +d10 +d11+ d12 + d13 + d14 + d15) % 2\n",
    "    p0 = (p1+ p2 + d3 + p4 +d5 +d6+ d7+ p8+ d9+ d10 +d11 +d12 +d13 +d14 + d15 ) % 2\n",
    "    return str(p0)+str(p1)+str(p2)+str(d3)+str(p4)+str(d5)+str(d6)+str(d7)+str(p8)+str(d9)+str(d10)+str(d11)+str(d12)+str(d13)+str(d14)+str(d15)"
   ]
  },
  {
   "cell_type": "code",
   "execution_count": 59,
   "metadata": {},
   "outputs": [
    {
     "name": "stdout",
     "output_type": "stream",
     "text": [
      "1011011101000111\n"
     ]
    }
   ],
   "source": [
    "print(Hamming15_11('11111000111'))"
   ]
  },
  {
   "cell_type": "code",
   "execution_count": 60,
   "metadata": {},
   "outputs": [],
   "source": [
    "def Encode15_11(a):\n",
    "    hammed15_11=''\n",
    "    while len(a) >= 11:\n",
    "        lim = a[0:11]\n",
    "        hammed15_11+=Hamming15_11(lim)\n",
    "        a = a[11:]\n",
    "        Encode15_11(a)\n",
    "    return hammed15_11"
   ]
  },
  {
   "cell_type": "code",
   "execution_count": 61,
   "metadata": {},
   "outputs": [],
   "source": [
    "def Encode7_4(a):\n",
    "    hammed7_4=''\n",
    "    while len(a) >= 4:\n",
    "        lim = a[0:4]\n",
    "        hammed7_4+=Hamming7_4(lim)\n",
    "        a = a[4:]\n",
    "        Encode7_4(a)\n",
    "    return hammed7_4"
   ]
  },
  {
   "cell_type": "code",
   "execution_count": 66,
   "metadata": {},
   "outputs": [
    {
     "name": "stdout",
     "output_type": "stream",
     "text": [
      "hamming 15.11 coded txtfile: 010110010011111101010110010110010100001010001110\n",
      "hamming 7.4 coded txtfile: 1001100100001111111111110101010101100110110011001111000000001111\n"
     ]
    }
   ],
   "source": [
    "a=Encode15_11(code)\n",
    "print('hamming 15.11 coded txtfile: '+a)\n",
    "b=Encode7_4(code)\n",
    "print('hamming 7.4 coded txtfile: '+b)"
   ]
  },
  {
   "cell_type": "code",
   "execution_count": null,
   "metadata": {},
   "outputs": [],
   "source": []
  },
  {
   "cell_type": "code",
   "execution_count": null,
   "metadata": {},
   "outputs": [],
   "source": []
  },
  {
   "cell_type": "code",
   "execution_count": null,
   "metadata": {},
   "outputs": [],
   "source": []
  }
 ],
 "metadata": {
  "kernelspec": {
   "display_name": "Python 3",
   "language": "python",
   "name": "python3"
  },
  "language_info": {
   "codemirror_mode": {
    "name": "ipython",
    "version": 3
   },
   "file_extension": ".py",
   "mimetype": "text/x-python",
   "name": "python",
   "nbconvert_exporter": "python",
   "pygments_lexer": "ipython3",
   "version": "3.8.5"
  }
 },
 "nbformat": 4,
 "nbformat_minor": 4
}
